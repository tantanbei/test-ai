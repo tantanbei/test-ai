{
 "cells": [
  {
   "cell_type": "code",
   "execution_count": null,
   "id": "11b1a0ed",
   "metadata": {},
   "outputs": [],
   "source": [
    "#cd flux path\n",
    "!pip install -e \".[all]\""
   ]
  },
  {
   "cell_type": "code",
   "execution_count": null,
   "id": "f0fcf89b",
   "metadata": {},
   "outputs": [],
   "source": [
    "!pip install --upgrade diffusers transformers accelerate scipy safetensors\n",
    "\n",
    "!pip install --upgrade diffusers[torch]\n",
    "!pip install torch\n",
    "!pip install numpy==1.26.4 --force-reinstall"
   ]
  },
  {
   "cell_type": "code",
   "execution_count": null,
   "id": "ecf5b825",
   "metadata": {},
   "outputs": [],
   "source": [
    "#conda activate tfluxenv\n",
    "\n",
    "#使用flux1-dev模型\n",
    "from diffusers import DiffusionPipeline\n",
    "\n",
    "pipe = DiffusionPipeline.from_pretrained(\"black-forest-labs/FLUX.1-dev\")\n",
    "\n",
    "prompt = \"Astronaut in a jungle, cold color palette, muted colors, detailed, 8k\"\n",
    "image = pipe(prompt).images[0]"
   ]
  }
 ],
 "metadata": {
  "kernelspec": {
   "display_name": "tfluxenv",
   "language": "python",
   "name": "python3"
  },
  "language_info": {
   "codemirror_mode": {
    "name": "ipython",
    "version": 3
   },
   "file_extension": ".py",
   "mimetype": "text/x-python",
   "name": "python",
   "nbconvert_exporter": "python",
   "pygments_lexer": "ipython3",
   "version": "3.10.16"
  }
 },
 "nbformat": 4,
 "nbformat_minor": 5
}
