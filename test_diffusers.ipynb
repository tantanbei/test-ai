{
 "cells": [
  {
   "cell_type": "code",
   "execution_count": null,
   "id": "c9c9b725-fc91-412d-90ef-732deeb51727",
   "metadata": {},
   "outputs": [],
   "source": [
    "#tdiffusersenv\n",
    "!pip install --upgrade diffusers transformers accelerate scipy safetensors\n",
    "\n",
    "!pip install --upgrade diffusers[torch]\n",
    "!pip install torch\n",
    "!pip install numpy==1.26.4 --force-reinstall"
   ]
  },
  {
   "cell_type": "code",
   "execution_count": null,
   "id": "eb58263c",
   "metadata": {},
   "outputs": [],
   "source": [
    "!pip install peft"
   ]
  },
  {
   "cell_type": "code",
   "execution_count": null,
   "id": "a8282bda-58c9-40e8-a437-21c6843c26c4",
   "metadata": {
    "editable": true,
    "slideshow": {
     "slide_type": ""
    },
    "tags": []
   },
   "outputs": [],
   "source": [
    "!python -c \"import transformers; print(transformers.__version__)\"\n",
    "!python -c \"import scipy; print(scipy.__version__)\"\n",
    "!python -c \"import diffusers; print(diffusers.__version__)\"\n",
    "!python -c \"import transformers; print(transformers.__version__)\"\n",
    "!python -c \"import numpy; print(numpy.__version__)\"\n",
    "!python -c \"import peft; print(peft.__version__)\"\n",
    "#4.49.0\n",
    "#1.15.2\n",
    "#0.32.2\n",
    "#4.49.0\n",
    "#1.26.4\n",
    "#0.14.0"
   ]
  },
  {
   "cell_type": "code",
   "execution_count": 11,
   "id": "fb563940-57c0-4c93-a133-94c7ffd8cabe",
   "metadata": {},
   "outputs": [
    {
     "name": "stderr",
     "output_type": "stream",
     "text": [
      "Loading pipeline components...: 100%|██████████| 6/6 [00:00<00:00, 22.53it/s]\n",
      "100%|██████████| 50/50 [00:59<00:00,  1.19s/it]\n"
     ]
    }
   ],
   "source": [
    "from diffusers import StableDiffusionPipeline, EulerDiscreteScheduler\n",
    "import torch\n",
    "import gc\n",
    "import time\n",
    "\n",
    "model_id = \"stabilityai/stable-diffusion-2-1\"\n",
    "lora_path = \"tantanbei/lqq\"\n",
    "lora_path = \"/Users/tankaide/ai/model_training/natalie_dormer_lora/model/nd-sd2-1-v1.safetensors\"\n",
    "\n",
    "# Use the Euler scheduler here instead\n",
    "scheduler = EulerDiscreteScheduler.from_pretrained(model_id, subfolder=\"scheduler\")\n",
    "pipe = StableDiffusionPipeline.from_pretrained(model_id, scheduler=scheduler)\n",
    "pipe = pipe.to(\"mps\")  # macOS 需要 float32\n",
    "\n",
    "# Recommended if your computer has < 64 GB of RAM\n",
    "pipe.enable_attention_slicing()\n",
    "\n",
    "# **加载 LoRA 权重**\n",
    "pipe.load_lora_weights(lora_path)\n",
    "\n",
    "# **应用 LoRA**\n",
    "pipe.fuse_lora(scale=1)\n",
    "\n",
    "# **3. 设置 LoRA 影响力**\n",
    "#pipe.set_adapters([\"default\"])  # 选择适配的 LoRA\n",
    "#pipe.set_adapters_weights([0.6])  # 设置权重（scale=0.6）\n",
    "\n",
    "prompt = \"girl with yellow hair on sunset\"\n",
    "image = pipe(prompt, width=768, height=768).images[0]\n",
    "\n",
    "# image = image.convert(\"RGB\")  \n",
    "image.save(\"./output/astronaut_rides_horse.png\")\n",
    "\n",
    "del pipe\n",
    "gc.collect()\n",
    "torch.mps.empty_cache()  # 清理 Mac MPS 显存\n",
    "\n"
   ]
  },
  {
   "cell_type": "code",
   "execution_count": 9,
   "id": "9ce98ac9",
   "metadata": {},
   "outputs": [
    {
     "name": "stdout",
     "output_type": "stream",
     "text": [
      "Reshaping decoder.mid.attn_1.k.weight for SD format\n",
      "Reshaping decoder.mid.attn_1.proj_out.weight for SD format\n",
      "Reshaping decoder.mid.attn_1.q.weight for SD format\n",
      "Reshaping decoder.mid.attn_1.v.weight for SD format\n",
      "Reshaping encoder.mid.attn_1.k.weight for SD format\n",
      "Reshaping encoder.mid.attn_1.proj_out.weight for SD format\n",
      "Reshaping encoder.mid.attn_1.q.weight for SD format\n",
      "Reshaping encoder.mid.attn_1.v.weight for SD format\n"
     ]
    }
   ],
   "source": [
    "#使用 diffusers 提供的转换脚本，将模型转换为 ComfyUI 支持的格式\n",
    "\n",
    "!python diffusers/scripts/convert_diffusers_to_original_stable_diffusion.py \\\n",
    "--model_path /Users/tankaide/.cache/huggingface/hub/models--stabilityai--stable-diffusion-2-1/snapshots/5cae40e6a2745ae2b01ad92ae5043f95f23644d6 \\\n",
    "--checkpoint_path output/models--stabilityai--stable-diffusion-2-1.safetensors \\\n",
    "--use_safetensors"
   ]
  }
 ],
 "metadata": {
  "kernelspec": {
   "display_name": "Python 3 (ipykernel)",
   "language": "python",
   "name": "python3"
  },
  "language_info": {
   "codemirror_mode": {
    "name": "ipython",
    "version": 3
   },
   "file_extension": ".py",
   "mimetype": "text/x-python",
   "name": "python",
   "nbconvert_exporter": "python",
   "pygments_lexer": "ipython3",
   "version": "3.11.11"
  }
 },
 "nbformat": 4,
 "nbformat_minor": 5
}
