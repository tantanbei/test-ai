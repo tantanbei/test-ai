{
 "cells": [
  {
   "cell_type": "markdown",
   "id": "e1ad7bb6",
   "metadata": {},
   "source": [
    "访问本地ollama模型"
   ]
  },
  {
   "cell_type": "code",
   "execution_count": 18,
   "id": "914cb99e-cb87-42d5-ba3c-bc4935737a95",
   "metadata": {
    "scrolled": true
   },
   "outputs": [
    {
     "name": "stdout",
     "output_type": "stream",
     "text": [
      "<think>\n",
      "\n",
      "</think>\n",
      "\n",
      "您好！我是由中国的深度求索（DeepSeek）公司开发的智能助手DeepSeek-R1。如您有任何任何问题，我会尽我所能为您提供帮助。\n"
     ]
    }
   ],
   "source": [
    "from langchain.llms import Ollama\n",
    "\n",
    "# 选择 LLM，如 \"mistral\" 或 \"llama2\"\n",
    "llm = Ollama(model=\"deepseek-r1:32b\", base_url=\"http://localhost:6399\")\n",
    "\n",
    "# 生成文本\n",
    "response = llm(\"你是谁\")\n",
    "print(response)\n"
   ]
  },
  {
   "cell_type": "markdown",
   "id": "d40270b0",
   "metadata": {},
   "source": [
    "访问本地ollama模型+资料库"
   ]
  },
  {
   "cell_type": "code",
   "execution_count": 16,
   "id": "c1a1f13a",
   "metadata": {},
   "outputs": [],
   "source": [
    "#生成pickle文件\n",
    "\n",
    "import pickle\n",
    "\n",
    "# 保存对象到文件\n",
    "data = {'name': 'Alice', 'age': 25}\n",
    "with open('./data/data.pkl', 'wb') as f:\n",
    "    pickle.dump(data, f)\n",
    "\n",
    "# 从文件读取对象\n",
    "with open('./data/data.pkl', 'rb') as f:\n",
    "    loaded_data = pickle.load(f)"
   ]
  },
  {
   "cell_type": "code",
   "execution_count": 19,
   "id": "1246e359",
   "metadata": {},
   "outputs": [],
   "source": [
    "from langchain.vectorstores import FAISS\n",
    "from langchain.embeddings import OllamaEmbeddings\n",
    "from langchain.document_loaders import TextLoader\n",
    "from langchain.text_splitter import CharacterTextSplitter\n",
    "\n",
    "# 设置嵌入模型\n",
    "embedding = OllamaEmbeddings(\n",
    "    model=\"bge-m3:latest\",\n",
    "    base_url=\"http://localhost:6399\"\n",
    ")\n",
    "\n",
    "# 加载文档\n",
    "loader = TextLoader('data/data.txt')  # 替换为你的文档路径\n",
    "documents = loader.load()\n",
    "\n",
    "# 分割文档\n",
    "text_splitter = CharacterTextSplitter(chunk_size=1000, chunk_overlap=0)\n",
    "texts = text_splitter.split_documents(documents)\n",
    "\n",
    "# 创建向量数据库\n",
    "vector_db = FAISS.from_documents(texts, embedding)\n",
    "\n",
    "# 保存到本地（注意路径）\n",
    "vector_db.save_local(\"faiss_index\")"
   ]
  },
  {
   "cell_type": "code",
   "execution_count": 20,
   "id": "fb563940-57c0-4c93-a133-94c7ffd8cabe",
   "metadata": {},
   "outputs": [
    {
     "name": "stdout",
     "output_type": "stream",
     "text": [
      "[Document(id='37520c0f-92e7-4e1d-8789-22d3058394ae', metadata={'source': 'data/data.txt'}, page_content='Rank算法粗排实时主题表:dl_cpc.lego_dws_algo_sketchy_rank')]\n"
     ]
    }
   ],
   "source": [
    "from langchain.vectorstores import FAISS\n",
    "from langchain.embeddings import OllamaEmbeddings\n",
    "\n",
    "# 使用 Ollama 的嵌入模型\n",
    "embedding = OllamaEmbeddings(\n",
    "    model=\"bge-m3:latest\",  # 或其他你想使用的模型\n",
    "    base_url=\"http://localhost:6399\"  # 使用你的 Ollama 服务端口\n",
    ")\n",
    "\n",
    "# 创建或加载向量数据库\n",
    "vector_db = FAISS.load_local(\n",
    "    \"faiss_index\", \n",
    "    embeddings=embedding,\n",
    "    allow_dangerous_deserialization=True  # 添加这个参数\n",
    ")\n",
    "\n",
    "# 语义搜索\n",
    "query = \"rank表是什么\"\n",
    "retrieved_docs = vector_db.similarity_search(query)\n",
    "print(retrieved_docs)\n"
   ]
  }
 ],
 "metadata": {
  "kernelspec": {
   "display_name": "taienv",
   "language": "python",
   "name": "python3"
  },
  "language_info": {
   "codemirror_mode": {
    "name": "ipython",
    "version": 3
   },
   "file_extension": ".py",
   "mimetype": "text/x-python",
   "name": "python",
   "nbconvert_exporter": "python",
   "pygments_lexer": "ipython3",
   "version": "3.10.16"
  }
 },
 "nbformat": 4,
 "nbformat_minor": 5
}
