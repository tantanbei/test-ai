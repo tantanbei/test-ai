{
 "cells": [
  {
   "cell_type": "code",
   "execution_count": null,
   "id": "e61d2211-af63-4d28-b35a-dcb6b55890b6",
   "metadata": {},
   "outputs": [],
   "source": [
    "!PYTORCH_ENABLE_MPS_FALLBACK=1 python Wan2.1-mac-compatibility/generate.py --task t2v-1.3B --size \"480*832\" --frame_num 8 --sample_steps 25 --ckpt_dir ./models/Wan2.1-T2V-1.3B --offload_model True --t5_cpu --device mps --prompt \"美女在矫情的喝啤酒，旁边有个小猫，湿身，亚洲人\" --save_file output/output_video.mp4"
   ]
  }
 ],
 "metadata": {
  "kernelspec": {
   "display_name": "twanenv",
   "language": "python",
   "name": "python3"
  },
  "language_info": {
   "codemirror_mode": {
    "name": "ipython",
    "version": 3
   },
   "file_extension": ".py",
   "mimetype": "text/x-python",
   "name": "python",
   "nbconvert_exporter": "python",
   "pygments_lexer": "ipython3",
   "version": "3.11.11"
  }
 },
 "nbformat": 4,
 "nbformat_minor": 5
}
