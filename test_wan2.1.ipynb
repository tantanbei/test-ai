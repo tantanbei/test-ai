{
 "cells": [
  {
   "cell_type": "code",
   "execution_count": null,
   "id": "e61d2211-af63-4d28-b35a-dcb6b55890b6",
   "metadata": {},
   "outputs": [],
   "source": [
    "import numpy as np\n",
    "d = 64                           # 向量维度\n",
    "nb = 100000                      # 数据库大小（向量数量）\n",
    "nq = 10000                       # 查询数量\n",
    "np.random.seed(1234)             # 设置随机种子，确保结果可复现\n",
    "\n",
    "# 生成随机数据\n",
    "xb = np.random.random((nb, d)).astype('float32')    # 生成数据库向量\n",
    "print(xb)\n",
    "xb[:, 0] += np.arange(nb) / 1000.                   # 给第一维添加一个小的线性增长\n",
    "print(xb)\n",
    "xq = np.random.random((nq, d)).astype('float32')    # 生成查询向量\n",
    "xq[:, 0] += np.arange(nq) / 1000.                   # 给第一维添加一个小的线性增长\n",
    "print(xq)\n"
   ]
  },
  {
   "cell_type": "code",
   "execution_count": null,
   "id": "cfbe8cf5-03e4-4ac4-99ae-c7e970698d8a",
   "metadata": {},
   "outputs": [],
   "source": [
    "import faiss\n",
    "index = faiss.IndexFlatL2(d)   # 创建使用L2距离的索引\n",
    "print(index.is_trained)        # 检查索引是否需要训练（对于简单的IndexFlatL2不需要）\n",
    "index.add(xb)                  # 将向量添加到索引中\n",
    "D, I = index.search(xq, k=4)   # 对每个查询向量搜索4个最近邻\n",
    "print(D[:5])\n",
    "print(I[:5])                   # 打印前5个查询的结果   "
   ]
  },
  {
   "cell_type": "code",
   "execution_count": null,
   "id": "92f3c8d8-05f1-4d0f-bdfc-4bf291f72e98",
   "metadata": {},
   "outputs": [],
   "source": []
  }
 ],
 "metadata": {
  "kernelspec": {
   "display_name": "taienv",
   "language": "python",
   "name": "python3"
  },
  "language_info": {
   "codemirror_mode": {
    "name": "ipython",
    "version": 3
   },
   "file_extension": ".py",
   "mimetype": "text/x-python",
   "name": "python",
   "nbconvert_exporter": "python",
   "pygments_lexer": "ipython3",
   "version": "3.10.16"
  }
 },
 "nbformat": 4,
 "nbformat_minor": 5
}
